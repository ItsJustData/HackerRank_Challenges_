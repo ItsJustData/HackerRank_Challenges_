{
  "nbformat": 4,
  "nbformat_minor": 0,
  "metadata": {
    "colab": {
      "name": "Multiple Linear Regression: Predicting House Prices.ipynb",
      "provenance": []
    },
    "kernelspec": {
      "name": "python3",
      "display_name": "Python 3"
    }
  },
  "cells": [
    {
      "cell_type": "code",
      "metadata": {
        "id": "2kjGntwdXSw7",
        "colab_type": "code",
        "colab": {}
      },
      "source": [
        "# Enter your code here. Read input from STDIN. Print output to STDOUT\n",
        "import sys\n",
        "import pandas as pd\n",
        "import numpy as np\n",
        "from sklearn.linear_model import LinearRegression \n",
        "\n",
        "features_rows = sys.stdin.readline().split()\n",
        "num_features = int(features_rows[0])\n",
        "num_rows = int(features_rows[1])\n",
        "\n",
        "X = []\n",
        "y = []\n",
        "\n",
        "for i in range(num_rows):\n",
        "    row = sys.stdin.readline().split()\n",
        "    X.append(row[0:num_features])\n",
        "    y.append(row[num_features])\n",
        "\n",
        "X_train = np.asarray(X)\n",
        "y_train = np.asarray(y)\n",
        "\n",
        "X_train = X_train.astype(float)\n",
        "y_train = y_train.astype(float)\n",
        "\n",
        "model = LinearRegression()\n",
        "model.fit(X_train, y_train)\n",
        "\n",
        "num_test_rows = int(sys.stdin.readline())\n",
        "\n",
        "X_test = []\n",
        "\n",
        "for i in range(num_test_rows):\n",
        "    test_row = sys.stdin.readline().split()\n",
        "    X_test.append(test_row)\n",
        "\n",
        "X_test = np.asarray(X_test)\n",
        "X_test = X_test.astype(float)\n",
        "\n",
        "y_hat = model.predict(X_test)\n",
        "\n",
        "for price in y_hat:\n",
        "    print(round(price, 2))\n",
        "\n",
        "\n"
      ],
      "execution_count": null,
      "outputs": []
    }
  ]
}